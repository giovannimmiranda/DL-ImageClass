{
  "nbformat": 4,
  "nbformat_minor": 0,
  "metadata": {
    "colab": {
      "provenance": [],
      "authorship_tag": "ABX9TyOpRDLEhFVAO0jpg3uAlSSL",
      "include_colab_link": true
    },
    "kernelspec": {
      "name": "python3",
      "display_name": "Python 3"
    },
    "language_info": {
      "name": "python"
    }
  },
  "cells": [
    {
      "cell_type": "markdown",
      "metadata": {
        "id": "view-in-github",
        "colab_type": "text"
      },
      "source": [
        "<a href=\"https://colab.research.google.com/github/giovannimmiranda/DL_20-06_GMM/blob/main/DL_20_06_Miranda.ipynb\" target=\"_parent\"><img src=\"https://colab.research.google.com/assets/colab-badge.svg\" alt=\"Open In Colab\"/></a>"
      ]
    },
    {
      "cell_type": "markdown",
      "source": [
        "# **Deep Learning Exam - 20/06/2024**\n"
      ],
      "metadata": {
        "id": "_OUU4Nm3pWwG"
      }
    },
    {
      "cell_type": "markdown",
      "source": [
        "Giovanni Michele Miranda,  507567"
      ],
      "metadata": {
        "id": "3Vsu-Mozpo4-"
      }
    },
    {
      "cell_type": "code",
      "execution_count": 128,
      "metadata": {
        "id": "ajgnlfRpm2HX"
      },
      "outputs": [],
      "source": [
        "import urllib.request\n",
        "import zipfile\n",
        "# ZIP data URL from GitHub\n",
        "zip_url = \"https://github.com/giovannimmiranda/DL_20-06_GMM/raw/main/input_data.zip\"\n",
        "# Download the ZIP\n",
        "zip_path, _ = urllib.request.urlretrieve(zip_url)\n",
        "# Unzip the folder\n",
        "target_folder = \"temp\"\n",
        "# reading data\n",
        "with zipfile.ZipFile(zip_path, 'r') as zip_ref:\n",
        "    zip_ref.extractall(target_folder)\n",
        "data_path = f\"{target_folder}/input_data.pkl\"\n",
        "#Then use the following lines to read it:\n",
        "import pickle as pk\n",
        "with open(data_path, 'rb') as f:\n",
        "  data = pk.load(f)\n",
        "images = data['imgs']\n",
        "y = data['labels']\n",
        "labels = y[:,0]\n",
        "bboxes = y[:,1:]"
      ]
    },
    {
      "cell_type": "code",
      "source": [
        "batch_size = 5\n",
        "bboxes[:batch_size]"
      ],
      "metadata": {
        "colab": {
          "base_uri": "https://localhost:8080/"
        },
        "id": "HDnl0Zd_1Kt6",
        "outputId": "c2bd1887-9862-4c94-ba6d-12c8e0a00708"
      },
      "execution_count": 143,
      "outputs": [
        {
          "output_type": "execute_result",
          "data": {
            "text/plain": [
              "array([[ 23,  42, 206, 199],\n",
              "       [ 13,  70, 219, 160],\n",
              "       [  8,  42, 221, 200],\n",
              "       [ 22,  67, 218, 158],\n",
              "       [ 15,  56, 212, 156]])"
            ]
          },
          "metadata": {},
          "execution_count": 143
        }
      ]
    },
    {
      "cell_type": "code",
      "source": [
        "import numpy as np\n",
        "import random\n",
        "import tensorflow as tf\n",
        "from sklearn.model_selection import train_test_split\n",
        "import matplotlib.pyplot as plt"
      ],
      "metadata": {
        "id": "q_rcI4fvpt9f"
      },
      "execution_count": 94,
      "outputs": []
    },
    {
      "cell_type": "code",
      "source": [
        "if np.max(images) > 1 and np.min(images) > 0:\n",
        "  images = images.astype('float32') / 255.0\n",
        "else:\n",
        "  pass"
      ],
      "metadata": {
        "id": "OX2ukqj-qed4"
      },
      "execution_count": 121,
      "outputs": []
    },
    {
      "cell_type": "code",
      "source": [
        "import numpy as np\n",
        "import random\n",
        "\n",
        "# Example labels to remove images from\n",
        "label_to_remove_c1 = 1  # First class\n",
        "label_to_remove_c2 = 2  # Second class\n",
        "\n",
        "# Ensure there are enough images in the dataset\n",
        "if labels.shape[0] > 184 and images.shape[0] > 184:\n",
        "    # Find indices of images with the specified labels\n",
        "    indices_to_remove_c1 = np.where(labels == label_to_remove_c1)[0]\n",
        "    indices_to_remove_c2 = np.where(labels == label_to_remove_c2)[0]\n",
        "\n",
        "    # Check if there are enough images to remove\n",
        "\n",
        "    # Randomly select two indices from the first class\n",
        "    random_indices_c1 = random.sample(list(indices_to_remove_c1), 2)\n",
        "    # Randomly select one index from the second class\n",
        "    random_indices_c2 = random.sample(list(indices_to_remove_c2), 1)\n",
        "\n",
        "    # Remove the selected images and their corresponding labels\n",
        "    images = np.delete(images, random_indices_c1, axis=0)\n",
        "    labels = np.delete(labels, random_indices_c1, axis=0)\n",
        "    # Adjust the second class index due to the removal of the first class indices\n",
        "    random_indices_c2 = [i - np.sum(random_indices_c1 < i) for i in random_indices_c2]\n",
        "    images = np.delete(images, random_indices_c2, axis=0)\n",
        "    labels = np.delete(labels, random_indices_c2, axis=0)\n",
        "\n",
        "    print(f\"Removed images at indices: {random_indices_c1} from class 1 and {random_indices_c2} from class 2\")\n",
        "    print(f\"New dataset size: {images.shape[0]} images, {labels.shape[0]} labels\")\n",
        "else:\n",
        "    print(f\"The dataset is already set! It has {images.shape[0]} images.\")\n",
        "    unique_labels, counts = np.unique(labels, return_counts=True)\n",
        "    print(\"\\nNow the dataset is balanced:\")\n",
        "    for label, count in zip(unique_labels, counts):\n",
        "      print(f\"\\n Class {label}: {count} images\")"
      ],
      "metadata": {
        "colab": {
          "base_uri": "https://localhost:8080/"
        },
        "id": "6t30l7M6uRNR",
        "outputId": "f3652265-817a-48e7-9f6b-918959e185d7"
      },
      "execution_count": 122,
      "outputs": [
        {
          "output_type": "stream",
          "name": "stdout",
          "text": [
            "Removed images at indices: [22, 46] from class 1 and [84] from class 2\n",
            "New dataset size: 183 images, 183 labels\n"
          ]
        }
      ]
    },
    {
      "cell_type": "code",
      "source": [
        "images.shape"
      ],
      "metadata": {
        "colab": {
          "base_uri": "https://localhost:8080/"
        },
        "id": "yCRwkq-qsl50",
        "outputId": "39f0d031-5474-4767-8e59-a296c47a30f5"
      },
      "execution_count": 123,
      "outputs": [
        {
          "output_type": "execute_result",
          "data": {
            "text/plain": [
              "(183, 227, 227, 3)"
            ]
          },
          "metadata": {},
          "execution_count": 123
        }
      ]
    },
    {
      "cell_type": "code",
      "source": [
        "image_width_height = 227\n",
        "\n",
        "# Convert to float for accurate division\n",
        "bboxes_normalized = bboxes.astype(float)\n",
        "\n",
        "# Normalize bounding boxes to [0, 1]\n",
        "bboxes_normalized[:, 0] /= image_width_height  # Normalize x1\n",
        "bboxes_normalized[:, 1] /= image_width_height  # Normalize y1\n",
        "bboxes_normalized[:, 2] /= image_width_height  # Normalize x2\n",
        "bboxes_normalized[:, 3] /= image_width_height  # Normalize y2\n",
        "print(f\"Printing first {batch_size} normalized bounding boxes:\")\n",
        "print(bboxes_normalized[:batch_size])"
      ],
      "metadata": {
        "colab": {
          "base_uri": "https://localhost:8080/"
        },
        "id": "gtwR_TzQ0T1Q",
        "outputId": "08c636cf-8baa-422a-d028-348f44519bce"
      },
      "execution_count": 144,
      "outputs": [
        {
          "output_type": "stream",
          "name": "stdout",
          "text": [
            "Printing first 5 normalized bounding boxes:\n",
            "[[0.10132159 0.18502203 0.90748899 0.87665198]\n",
            " [0.05726872 0.30837004 0.96475771 0.70484581]\n",
            " [0.03524229 0.18502203 0.97356828 0.88105727]\n",
            " [0.0969163  0.29515419 0.96035242 0.69603524]\n",
            " [0.0660793  0.24669604 0.9339207  0.68722467]]\n"
          ]
        }
      ]
    }
  ]
}