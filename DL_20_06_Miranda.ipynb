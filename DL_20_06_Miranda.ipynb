{
  "nbformat": 4,
  "nbformat_minor": 0,
  "metadata": {
    "colab": {
      "provenance": [],
      "authorship_tag": "ABX9TyMtUHaLpmYRdWYqccDYYwqv",
      "include_colab_link": true
    },
    "kernelspec": {
      "name": "python3",
      "display_name": "Python 3"
    },
    "language_info": {
      "name": "python"
    }
  },
  "cells": [
    {
      "cell_type": "markdown",
      "metadata": {
        "id": "view-in-github",
        "colab_type": "text"
      },
      "source": [
        "<a href=\"https://colab.research.google.com/github/giovannimmiranda/DL_20-06_GMM/blob/main/DL_20_06_Miranda.ipynb\" target=\"_parent\"><img src=\"https://colab.research.google.com/assets/colab-badge.svg\" alt=\"Open In Colab\"/></a>"
      ]
    },
    {
      "cell_type": "markdown",
      "source": [
        "# **Deep Learning Exam - 20/06/2024**\n"
      ],
      "metadata": {
        "id": "_OUU4Nm3pWwG"
      }
    },
    {
      "cell_type": "markdown",
      "source": [
        "Giovanni Michele Miranda,  507567"
      ],
      "metadata": {
        "id": "3Vsu-Mozpo4-"
      }
    },
    {
      "cell_type": "code",
      "execution_count": 128,
      "metadata": {
        "id": "ajgnlfRpm2HX"
      },
      "outputs": [],
      "source": [
        "import urllib.request\n",
        "import zipfile\n",
        "# ZIP data URL from GitHub\n",
        "zip_url = \"https://github.com/giovannimmiranda/DL_20-06_GMM/raw/main/input_data.zip\"\n",
        "# Download the ZIP\n",
        "zip_path, _ = urllib.request.urlretrieve(zip_url)\n",
        "# Unzip the folder\n",
        "target_folder = \"temp\"\n",
        "# reading data\n",
        "with zipfile.ZipFile(zip_path, 'r') as zip_ref:\n",
        "    zip_ref.extractall(target_folder)\n",
        "data_path = f\"{target_folder}/input_data.pkl\"\n",
        "#Then use the following lines to read it:\n",
        "import pickle as pk\n",
        "with open(data_path, 'rb') as f:\n",
        "  data = pk.load(f)\n",
        "images = data['imgs']\n",
        "y = data['labels']\n",
        "labels = y[:,0]\n",
        "bboxes = y[:,1:]"
      ]
    },
    {
      "cell_type": "code",
      "source": [
        "bboxes"
      ],
      "metadata": {
        "colab": {
          "base_uri": "https://localhost:8080/"
        },
        "id": "HDnl0Zd_1Kt6",
        "outputId": "19535915-6da2-4226-a25e-12e5131191c6"
      },
      "execution_count": 130,
      "outputs": [
        {
          "output_type": "execute_result",
          "data": {
            "text/plain": [
              "array([[ 23,  42, 206, 199],\n",
              "       [ 13,  70, 219, 160],\n",
              "       [  8,  42, 221, 200],\n",
              "       [ 22,  67, 218, 158],\n",
              "       [ 15,  56, 212, 156],\n",
              "       [ 24,  82, 204, 154],\n",
              "       [ 40,  89, 216, 221],\n",
              "       [ 14,  44, 208, 205],\n",
              "       [ 28,  71, 193, 174],\n",
              "       [ 53,  86, 149, 175],\n",
              "       [ 32,  74, 200, 132],\n",
              "       [  6,  74, 221, 157],\n",
              "       [ 12,  51, 216, 165],\n",
              "       [ 16,  82, 208, 172],\n",
              "       [ 26,  22, 201, 172],\n",
              "       [  8,  71, 215, 152],\n",
              "       [ 13, 129, 196, 170],\n",
              "       [  7,  82, 219, 191],\n",
              "       [ 31,  73, 209, 142],\n",
              "       [ 96,  63, 219, 164],\n",
              "       [ 24,  61, 196, 185],\n",
              "       [ 14,  97, 214, 184],\n",
              "       [  8,  38, 219, 180],\n",
              "       [ 24,  26, 200, 197],\n",
              "       [ 36,  11, 215, 207],\n",
              "       [ 74,  37, 150, 187],\n",
              "       [ 21,  29, 202, 198],\n",
              "       [ 16,  52, 210, 184],\n",
              "       [  4,  35, 225, 196],\n",
              "       [ 29,  74, 195, 121],\n",
              "       [ 29,  77, 209, 172],\n",
              "       [ 38,  57, 207, 191],\n",
              "       [ 37,  25, 192, 180],\n",
              "       [ 12,  47, 217, 135],\n",
              "       [ 25,  67, 201, 163],\n",
              "       [  9,  85, 221, 141],\n",
              "       [ 22,  22, 218, 202],\n",
              "       [ 11, 136, 198, 179],\n",
              "       [ 16,  77, 210, 139],\n",
              "       [ 11,  31, 217, 208],\n",
              "       [ 16,  66, 224, 143],\n",
              "       [ 27,  62, 212, 138],\n",
              "       [ 35,  71, 197, 172],\n",
              "       [ 18,  78, 190, 159],\n",
              "       [ 25,  70, 201, 146],\n",
              "       [ 24,  63, 203, 161],\n",
              "       [  7,  17, 220, 199],\n",
              "       [ 22,  91, 198, 151],\n",
              "       [ 35,  81, 205, 158],\n",
              "       [ 32,  48, 200, 180],\n",
              "       [ 61,  84, 166, 158],\n",
              "       [ 17,  98, 211, 132],\n",
              "       [ 30,  80, 197, 131],\n",
              "       [ 43,  43, 177, 165],\n",
              "       [  8,  37, 223, 187],\n",
              "       [  3,  13, 226, 188],\n",
              "       [ 55,  58, 219, 201],\n",
              "       [ 25,  35, 210, 170],\n",
              "       [ 21,  26, 207, 185],\n",
              "       [ 33,  55, 199, 142],\n",
              "       [ 78,  17, 153, 217],\n",
              "       [ 22,  62, 197, 181],\n",
              "       [ 29,  81, 201, 180],\n",
              "       [  2,   5, 214, 225],\n",
              "       [ 22,  51, 191, 197],\n",
              "       [ 49,  37, 192, 172],\n",
              "       [ 56,  29, 182, 220],\n",
              "       [ 25,  64, 178, 184],\n",
              "       [ 59,  41, 206, 149],\n",
              "       [ 23,  51, 178, 215],\n",
              "       [ 11,  44, 188, 143],\n",
              "       [ 41,  58, 179, 157],\n",
              "       [ 16,  24, 210, 173],\n",
              "       [ 15,  85, 197, 149],\n",
              "       [ 32,  41, 192, 198],\n",
              "       [ 50,  38, 178, 213],\n",
              "       [ 44,  95, 201, 182],\n",
              "       [ 38,  27, 215, 155],\n",
              "       [ 15,   4, 215, 185],\n",
              "       [ 44,  39, 178, 154],\n",
              "       [ 25,  25, 167, 198],\n",
              "       [ 40,  70, 179, 168],\n",
              "       [ 71,  40, 198, 152],\n",
              "       [ 54,  58, 223, 190],\n",
              "       [  1,  17, 222, 226],\n",
              "       [ 19,  42, 213, 186],\n",
              "       [ 62,  76, 171, 191],\n",
              "       [ 34,  35, 194, 186],\n",
              "       [ 20,  72, 211, 152],\n",
              "       [ 22,  34, 195, 165],\n",
              "       [  7,  25, 210, 222],\n",
              "       [ 28,  70, 181, 177],\n",
              "       [ 32,  56, 205, 184],\n",
              "       [ 34,  34,  88, 201],\n",
              "       [ 19,  49, 210, 169],\n",
              "       [ 17,  30, 212, 186],\n",
              "       [ 36,  72, 205, 187],\n",
              "       [  5,  12, 190, 209],\n",
              "       [ 20,  54, 186, 156],\n",
              "       [ 16,  33, 193, 161],\n",
              "       [ 56,  35, 145, 212],\n",
              "       [ 21,  59, 192, 171],\n",
              "       [  6,  53, 195, 178],\n",
              "       [ 64,  48, 166, 148],\n",
              "       [ 29,  74, 186, 172],\n",
              "       [  8,  31, 219, 220],\n",
              "       [ 35,  37, 206, 155],\n",
              "       [ 38,  46, 195, 200],\n",
              "       [ 12,  86, 188, 190],\n",
              "       [ 51,  59, 191, 164],\n",
              "       [ 56,  85, 171, 182],\n",
              "       [ 29,  36, 171, 198],\n",
              "       [ 52,  23, 213, 202],\n",
              "       [ 17,  44, 113, 176],\n",
              "       [ 31,  67, 215, 160],\n",
              "       [ 57,  64, 175, 155],\n",
              "       [ 26,  45, 188, 200],\n",
              "       [  8,  49, 213, 214],\n",
              "       [ 24,  83, 222, 144],\n",
              "       [ 24,  75, 184, 161],\n",
              "       [ 24,  11, 215, 212],\n",
              "       [ 67,  22, 177, 215],\n",
              "       [ 51,  49, 200, 198],\n",
              "       [ 17,  46, 182, 186],\n",
              "       [ 11,  64, 179, 202],\n",
              "       [ 44,  66, 155, 167],\n",
              "       [ 38,  47, 127, 154],\n",
              "       [ 39,  27, 204, 193],\n",
              "       [ 87,  21, 205, 193],\n",
              "       [ 22,   8, 200, 193],\n",
              "       [ 32,  35, 191, 197],\n",
              "       [102,  27, 207, 168],\n",
              "       [ 43,  20, 197, 182],\n",
              "       [ 99,  18, 211, 186],\n",
              "       [ 55,  46, 144, 214],\n",
              "       [ 66,  23, 196, 190],\n",
              "       [ 34,  31, 188, 201],\n",
              "       [ 49,  86, 183, 185],\n",
              "       [ 77,  79, 144, 213],\n",
              "       [ 32,  52, 196, 165],\n",
              "       [  8,   5, 226, 226],\n",
              "       [ 33,  67, 191, 189],\n",
              "       [ 66,  32, 164, 201],\n",
              "       [ 68,  37, 156, 200],\n",
              "       [ 49,  18, 181, 220],\n",
              "       [ 60,  10, 196, 188],\n",
              "       [ 27,  72, 182, 209],\n",
              "       [ 22,  26, 206, 197],\n",
              "       [  9,  11, 223, 217],\n",
              "       [ 58,  45, 162, 135],\n",
              "       [ 25,  14, 199, 133],\n",
              "       [ 24,  46, 205, 212],\n",
              "       [ 11,  99, 141, 177],\n",
              "       [ 69,  52, 164, 169],\n",
              "       [ 54,  26, 185, 192],\n",
              "       [ 93,  13, 158, 193],\n",
              "       [101,  58, 155, 126],\n",
              "       [ 25,  60, 128, 200],\n",
              "       [  8,   1, 225, 221],\n",
              "       [ 28,  31, 143, 210],\n",
              "       [ 42,  24, 180, 213],\n",
              "       [ 46,  43, 174, 182],\n",
              "       [112,  55, 203, 185],\n",
              "       [ 65,  17, 151, 209],\n",
              "       [ 55,  30, 167, 212],\n",
              "       [ 22,  25, 150, 217],\n",
              "       [ 60,  44, 163, 196],\n",
              "       [119,  56, 191, 181],\n",
              "       [ 32,  43, 193, 208],\n",
              "       [ 77,  19, 165, 212],\n",
              "       [ 56,  61, 173, 176],\n",
              "       [ 24,  23, 202, 183],\n",
              "       [ 96,  34, 203, 204],\n",
              "       [ 36,  19, 212, 195],\n",
              "       [ 31,  21, 206, 227],\n",
              "       [ 53,  28, 187, 209],\n",
              "       [ 41,  52, 177, 192],\n",
              "       [ 10,  45, 205, 218],\n",
              "       [ 87,   1, 221, 201],\n",
              "       [ 93,  69, 177, 203],\n",
              "       [146,  45, 197, 203],\n",
              "       [ 72,  69, 217, 202],\n",
              "       [ 20,  20, 210, 209],\n",
              "       [ 45,  30, 185, 200],\n",
              "       [ 29,  44, 194, 194],\n",
              "       [ 67,  38, 154, 172]])"
            ]
          },
          "metadata": {},
          "execution_count": 130
        }
      ]
    },
    {
      "cell_type": "code",
      "source": [
        "import numpy as np\n",
        "import random\n",
        "import tensorflow as tf\n",
        "from sklearn.model_selection import train_test_split\n",
        "import matplotlib.pyplot as plt"
      ],
      "metadata": {
        "id": "q_rcI4fvpt9f"
      },
      "execution_count": 94,
      "outputs": []
    },
    {
      "cell_type": "code",
      "source": [
        "if np.max(images) > 1 and np.min(images) > 0:\n",
        "  images = images.astype('float32') / 255.0\n",
        "else:\n",
        "  pass"
      ],
      "metadata": {
        "id": "OX2ukqj-qed4"
      },
      "execution_count": 121,
      "outputs": []
    },
    {
      "cell_type": "code",
      "source": [
        "import numpy as np\n",
        "import random\n",
        "\n",
        "# Example labels to remove images from\n",
        "label_to_remove_c1 = 1  # First class\n",
        "label_to_remove_c2 = 2  # Second class\n",
        "\n",
        "# Ensure there are enough images in the dataset\n",
        "if labels.shape[0] > 184 and images.shape[0] > 184:\n",
        "    # Find indices of images with the specified labels\n",
        "    indices_to_remove_c1 = np.where(labels == label_to_remove_c1)[0]\n",
        "    indices_to_remove_c2 = np.where(labels == label_to_remove_c2)[0]\n",
        "\n",
        "    # Check if there are enough images to remove\n",
        "\n",
        "    # Randomly select two indices from the first class\n",
        "    random_indices_c1 = random.sample(list(indices_to_remove_c1), 2)\n",
        "    # Randomly select one index from the second class\n",
        "    random_indices_c2 = random.sample(list(indices_to_remove_c2), 1)\n",
        "\n",
        "    # Remove the selected images and their corresponding labels\n",
        "    images = np.delete(images, random_indices_c1, axis=0)\n",
        "    labels = np.delete(labels, random_indices_c1, axis=0)\n",
        "    # Adjust the second class index due to the removal of the first class indices\n",
        "    random_indices_c2 = [i - np.sum(random_indices_c1 < i) for i in random_indices_c2]\n",
        "    images = np.delete(images, random_indices_c2, axis=0)\n",
        "    labels = np.delete(labels, random_indices_c2, axis=0)\n",
        "\n",
        "    print(f\"Removed images at indices: {random_indices_c1} from class 1 and {random_indices_c2} from class 2\")\n",
        "    print(f\"New dataset size: {images.shape[0]} images, {labels.shape[0]} labels\")\n",
        "else:\n",
        "    print(f\"The dataset is already set! It has {images.shape[0]} images.\")\n",
        "    unique_labels, counts = np.unique(labels, return_counts=True)\n",
        "    print(\"\\nNow the dataset is balanced:\")\n",
        "    for label, count in zip(unique_labels, counts):\n",
        "      print(f\"\\n Class {label}: {count} images\")"
      ],
      "metadata": {
        "colab": {
          "base_uri": "https://localhost:8080/"
        },
        "id": "6t30l7M6uRNR",
        "outputId": "f3652265-817a-48e7-9f6b-918959e185d7"
      },
      "execution_count": 122,
      "outputs": [
        {
          "output_type": "stream",
          "name": "stdout",
          "text": [
            "Removed images at indices: [22, 46] from class 1 and [84] from class 2\n",
            "New dataset size: 183 images, 183 labels\n"
          ]
        }
      ]
    },
    {
      "cell_type": "code",
      "source": [
        "images.shape"
      ],
      "metadata": {
        "colab": {
          "base_uri": "https://localhost:8080/"
        },
        "id": "yCRwkq-qsl50",
        "outputId": "39f0d031-5474-4767-8e59-a296c47a30f5"
      },
      "execution_count": 123,
      "outputs": [
        {
          "output_type": "execute_result",
          "data": {
            "text/plain": [
              "(183, 227, 227, 3)"
            ]
          },
          "metadata": {},
          "execution_count": 123
        }
      ]
    },
    {
      "cell_type": "code",
      "source": [
        "# Example image dimensions (assuming)\n",
        "image_width_height = 227\n",
        "batch_size = 5\n",
        "\n",
        "# Convert to float for accurate division\n",
        "bboxes_normalized = bboxes.astype(float)\n",
        "\n",
        "# Normalize bounding boxes to [0, 1]\n",
        "bboxes_normalized[:, 0] /= image_width_height  # Normalize x1\n",
        "bboxes_normalized[:, 1] /= image_width_height  # Normalize y1\n",
        "bboxes_normalized[:, 2] /= image_width_height  # Normalize x2\n",
        "bboxes_normalized[:, 3] /= image_width_height  # Normalize y2\n",
        "print(f\"Printing first {batch_size} normalized bounding boxes:\")\n",
        "print(bboxes_normalized[:batch_size])"
      ],
      "metadata": {
        "colab": {
          "base_uri": "https://localhost:8080/"
        },
        "id": "gtwR_TzQ0T1Q",
        "outputId": "62ac2594-31e9-4181-ef57-a2022345c53c"
      },
      "execution_count": 140,
      "outputs": [
        {
          "output_type": "stream",
          "name": "stdout",
          "text": [
            "Printing first 5 normalized bounding boxes:\n",
            "[[0.10132159 0.18502203 0.90748899 0.87665198]\n",
            " [0.05726872 0.30837004 0.96475771 0.70484581]\n",
            " [0.03524229 0.18502203 0.97356828 0.88105727]\n",
            " [0.0969163  0.29515419 0.96035242 0.69603524]\n",
            " [0.0660793  0.24669604 0.9339207  0.68722467]]\n"
          ]
        }
      ]
    }
  ]
}